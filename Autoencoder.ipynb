{
  "nbformat": 4,
  "nbformat_minor": 0,
  "metadata": {
    "colab": {
      "name": "Autoencoder.ipynb",
      "provenance": [],
      "authorship_tag": "ABX9TyNqAl9x1RdKrm6PrLrssvTc",
      "include_colab_link": true
    },
    "kernelspec": {
      "name": "python3",
      "display_name": "Python 3"
    }
  },
  "cells": [
    {
      "cell_type": "markdown",
      "metadata": {
        "id": "view-in-github",
        "colab_type": "text"
      },
      "source": [
        "<a href=\"https://colab.research.google.com/github/GovindSinghShekhawat/NeuaralNetworks/blob/main/Autoencoder.ipynb\" target=\"_parent\"><img src=\"https://colab.research.google.com/assets/colab-badge.svg\" alt=\"Open In Colab\"/></a>"
      ]
    },
    {
      "cell_type": "markdown",
      "metadata": {
        "id": "XPwrUfVCtRx5"
      },
      "source": [
        "Loading the data"
      ]
    },
    {
      "cell_type": "code",
      "metadata": {
        "id": "EDk720HOn1ks"
      },
      "source": [
        "import os"
      ],
      "execution_count": 1,
      "outputs": []
    },
    {
      "cell_type": "code",
      "metadata": {
        "id": "IVgA8gcAoFpg"
      },
      "source": [
        "os.environ[\"CUDA_DEVICE_ORDER\"]=\"PCI_BUS_ID\"\r\n",
        "os.environ[\"CUDA_VISIBLE_DEVICES\"]=\"1\""
      ],
      "execution_count": 2,
      "outputs": []
    },
    {
      "cell_type": "code",
      "metadata": {
        "id": "x9T6Hia_odtC"
      },
      "source": [
        "import keras \r\n",
        "from matplotlib import pyplot as plt\r\n",
        "import numpy as np\r\n",
        "import gzip\r\n",
        "%matplotlib inline \r\n",
        "from keras.layers import Input,Conv2D,MaxPooling2D,UpSampling2D\r\n",
        "from keras.models import Model \r\n",
        "from keras.optimizers import RMSprop"
      ],
      "execution_count": 3,
      "outputs": []
    },
    {
      "cell_type": "code",
      "metadata": {
        "id": "OG_vu-0CpQ3w"
      },
      "source": [
        "def extract_data(filename, num_images):\r\n",
        "  with gzip.open(filename) as bytestream:\r\n",
        "    bytestream.read(16)\r\n",
        "    buf = bytestream.read(28 * 28 * num_images)\r\n",
        "    data = np.frombuffer(buf, dtype=np.uint8).astype(np.float32)\r\n",
        "    data = data.reshape(num_images, 28, 28)\r\n",
        "    return data"
      ],
      "execution_count": 4,
      "outputs": []
    },
    {
      "cell_type": "code",
      "metadata": {
        "id": "5yZkqXWdqUeI"
      },
      "source": [
        "train_data = extract_data('/content/train-images-idx3-ubyte.gz',60000)\r\n",
        "test_data = extract_data('/content/t10k-images-idx3-ubyte.gz',10000)"
      ],
      "execution_count": 8,
      "outputs": []
    },
    {
      "cell_type": "code",
      "metadata": {
        "id": "GPgrY7ZmsC1Q"
      },
      "source": [
        "def extract_labels(filename, num_images):\r\n",
        "  with gzip.open(filename) as bytestream:\r\n",
        "    bytestream.read(8)\r\n",
        "    buf = bytestream.read(1 * num_images)\r\n",
        "    labels = np.frombuffer(buf, dtype=np.uint8).astype(np.int64)\r\n",
        "    return labels"
      ],
      "execution_count": 9,
      "outputs": []
    },
    {
      "cell_type": "code",
      "metadata": {
        "id": "ONAZzMXwso1Q"
      },
      "source": [
        "train_labels = extract_labels('/content/train-labels-idx1-ubyte.gz',60000)\r\n",
        "test_labels = extract_labels('/content/t10k-labels-idx1-ubyte.gz',10000)"
      ],
      "execution_count": 10,
      "outputs": []
    },
    {
      "cell_type": "markdown",
      "metadata": {
        "id": "QQ18EY4QtaB5"
      },
      "source": [
        "Data Exploration"
      ]
    },
    {
      "cell_type": "code",
      "metadata": {
        "colab": {
          "base_uri": "https://localhost:8080/"
        },
        "id": "PEq1yltstcye",
        "outputId": "6f09d0c7-386e-4971-ed08-1f960df6df0b"
      },
      "source": [
        "print(\"Training set (images) shape: {shape}\".format(shape=train_data.shape))\r\n",
        "print(\"Test set (images) shape: {shape}\".format(shape=test_data.shape))"
      ],
      "execution_count": 11,
      "outputs": [
        {
          "output_type": "stream",
          "text": [
            "Training set (images) shape: (60000, 28, 28)\n",
            "Test set (images) shape: (10000, 28, 28)\n"
          ],
          "name": "stdout"
        }
      ]
    },
    {
      "cell_type": "code",
      "metadata": {
        "id": "VXff6vBiuaMJ"
      },
      "source": [
        "# Create dictionary of target classes\r\n",
        "label_dict = {\r\n",
        "    0: 'A',\r\n",
        "    1: 'B',\r\n",
        "    2: 'C',\r\n",
        "    3: 'D',\r\n",
        "    4: 'E',\r\n",
        "    5: 'F',\r\n",
        "    6: 'G',\r\n",
        "    7: 'H',\r\n",
        "    8: 'I',\r\n",
        "    9: 'J'\r\n",
        "}"
      ],
      "execution_count": 12,
      "outputs": []
    },
    {
      "cell_type": "code",
      "metadata": {
        "colab": {
          "base_uri": "https://localhost:8080/",
          "height": 208
        },
        "id": "uBmo8UK7vSM2",
        "outputId": "7a39d420-3f25-406b-abed-48aa916d7f04"
      },
      "source": [
        "# Taking a look at couple of images in the dataset\r\n",
        "plt.figure(figsize=[5,5])\r\n",
        "\r\n",
        "# Display the first image in training data\r\n",
        "plt.subplot(121)\r\n",
        "curr_img = np.reshape(train_data[0],(28,28))\r\n",
        "curr_lbl = train_labels[0]\r\n",
        "plt.imshow(curr_img, cmap='gray')\r\n",
        "plt.title(\"(Label: \" + str(label_dict[curr_lbl]) + \")\")\r\n",
        "\r\n",
        "# Display the first image in testing data\r\n",
        "plt.subplot(122)\r\n",
        "curr_img = np.reshape(test_data[0], (28,28))\r\n",
        "curr_lbl = test_labels[0]\r\n",
        "plt.imshow(curr_img, cmap='gray')\r\n",
        "plt.title(\"(Label: \" + str(label_dict[curr_lbl]) + \")\")"
      ],
      "execution_count": 13,
      "outputs": [
        {
          "output_type": "execute_result",
          "data": {
            "text/plain": [
              "Text(0.5, 1.0, '(Label: D)')"
            ]
          },
          "metadata": {
            "tags": []
          },
          "execution_count": 13
        },
        {
          "output_type": "display_data",
          "data": {
            "image/png": "[encoded data removed]",
            "text/plain": [
              "<Figure size 360x360 with 2 Axes>"
            ]
          },
          "metadata": {
            "tags": [],
            "needs_background": "light"
          }
        }
      ]
    },
    {
      "cell_type": "markdown",
      "metadata": {
        "id": "mDUEWxJAxVfn"
      },
      "source": [
        "Data Processing"
      ]
    },
    {
      "cell_type": "code",
      "metadata": {
        "colab": {
          "base_uri": "https://localhost:8080/"
        },
        "id": "PyMOA5HVxXQp",
        "outputId": "a9d384af-8732-47f8-9270-7686951a93d7"
      },
      "source": [
        "train_data = train_data.reshape(-1,28,28,1)\r\n",
        "test_data = test_data.reshape(-1,28,28,1)\r\n",
        "train_data.shape, test_data.shape"
      ],
      "execution_count": 14,
      "outputs": [
        {
          "output_type": "execute_result",
          "data": {
            "text/plain": [
              "((60000, 28, 28, 1), (10000, 28, 28, 1))"
            ]
          },
          "metadata": {
            "tags": []
          },
          "execution_count": 14
        }
      ]
    },
    {
      "cell_type": "code",
      "metadata": {
        "colab": {
          "base_uri": "https://localhost:8080/"
        },
        "id": "B28vlW5dx2_M",
        "outputId": "73df7b3d-ea52-485d-dd72-ae9b78e339ee"
      },
      "source": [
        "train_data.dtype, test_data.dtype"
      ],
      "execution_count": 15,
      "outputs": [
        {
          "output_type": "execute_result",
          "data": {
            "text/plain": [
              "(dtype('float32'), dtype('float32'))"
            ]
          },
          "metadata": {
            "tags": []
          },
          "execution_count": 15
        }
      ]
    },
    {
      "cell_type": "code",
      "metadata": {
        "colab": {
          "base_uri": "https://localhost:8080/"
        },
        "id": "RcJEd_7DyAyh",
        "outputId": "ceb85424-b2ac-4171-cb56-9d7fe49c710e"
      },
      "source": [
        "np.max(train_data), np.max(test_data)"
      ],
      "execution_count": 16,
      "outputs": [
        {
          "output_type": "execute_result",
          "data": {
            "text/plain": [
              "(255.0, 255.0)"
            ]
          },
          "metadata": {
            "tags": []
          },
          "execution_count": 16
        }
      ]
    },
    {
      "cell_type": "code",
      "metadata": {
        "colab": {
          "base_uri": "https://localhost:8080/"
        },
        "id": "UHzvfgBEyLmt",
        "outputId": "d7148e0b-4288-4dbc-e3eb-4f4c5d82ecb3"
      },
      "source": [
        "train_data = train_data / np.max(train_data)\r\n",
        "test_data = test_data / np.max(test_data)\r\n",
        "np.max(train_data), np.max(test_data)"
      ],
      "execution_count": 18,
      "outputs": [
        {
          "output_type": "execute_result",
          "data": {
            "text/plain": [
              "(1.0, 1.0)"
            ]
          },
          "metadata": {
            "tags": []
          },
          "execution_count": 18
        }
      ]
    },
    {
      "cell_type": "code",
      "metadata": {
        "id": "n-n6stkQyjTM"
      },
      "source": [
        "from sklearn.model_selection import train_test_split\r\n",
        "train_X,valid_X,train_ground,valid_ground = train_test_split(train_data,\r\n",
        "                                train_data,test_size=0.2,random_state=13)"
      ],
      "execution_count": 20,
      "outputs": []
    },
    {
      "cell_type": "markdown",
      "metadata": {
        "id": "lJ2gGrlrzL3m"
      },
      "source": [
        "The Convolutional Autoencoder"
      ]
    },
    {
      "cell_type": "code",
      "metadata": {
        "id": "46wo8efSzPog"
      },
      "source": [
        "batch_size = 128\r\n",
        "epochs = 50\r\n",
        "inChannel = 1\r\n",
        "x, y = 28, 28\r\n",
        "input_img = Input(shape = (x, y, inChannel))"
      ],
      "execution_count": 21,
      "outputs": []
    },
    {
      "cell_type": "code",
      "metadata": {
        "id": "1Sm2ZI3pzqzv"
      },
      "source": [
        "def autoencoder(input_img):\r\n",
        "  #encoder\r\n",
        "  #input = 28 x 28 x 1 (wide and thin)\r\n",
        "  conv1 = Conv2D(32, (3,3), activation='relu', padding='same')(input_img) #28x28x32\r\n",
        "  pool1 = MaxPooling2D(pool_size=(2,2))(conv1) #14x14x32\r\n",
        "  conv2 = Conv2D(64, (3,3), activation ='relu',padding='same')(pool1) #14x14x64\r\n",
        "  pool2 = MaxPooling2D(pool_size=(2,2))(conv2) #7x7x64\r\n",
        "  conv3 = Conv2D(128, (3,3), activation='relu', padding='same')(pool2) #7x7x128(narrow and thick)\r\n",
        "\r\n",
        "  #decoder\r\n",
        "  conv4 = Conv2D(128, (3,3), activation='relu', padding='same')(conv3) #7x7x128\r\n",
        "  up1 = UpSampling2D((2,2))(conv4) #14x14x128\r\n",
        "  conv5 = Conv2D(64, (3,3), activation='relu', padding='same')(up1) #14x14x64\r\n",
        "  up2 = UpSampling2D((2,2))(conv5) #28x28x64\r\n",
        "  decoded = Conv2D(1, (3,3), activation='sigmoid', padding='same')(up2) #28x28x1\r\n",
        "  return decoded"
      ],
      "execution_count": 27,
      "outputs": []
    },
    {
      "cell_type": "code",
      "metadata": {
        "id": "9JxAK3CS3jK4"
      },
      "source": [
        "autoencoder = Model(input_img, autoencoder(input_img))\r\n",
        "autoencoder.compile(loss='mean_squared_error', optimizer = RMSprop())"
      ],
      "execution_count": 28,
      "outputs": []
    },
    {
      "cell_type": "code",
      "metadata": {
        "colab": {
          "base_uri": "https://localhost:8080/"
        },
        "id": "_hxXWdCG4YOE",
        "outputId": "ffbc7d83-db00-4c76-be02-64a09defaa1f"
      },
      "source": [
        "autoencoder.summary()"
      ],
      "execution_count": 29,
      "outputs": [
        {
          "output_type": "stream",
          "text": [
            "Model: \"model\"\n",
            "_________________________________________________________________\n",
            "Layer (type)                 Output Shape              Param #   \n",
            "=================================================================\n",
            "input_1 (InputLayer)         [(None, 28, 28, 1)]       0         \n",
            "_________________________________________________________________\n",
            "conv2d_13 (Conv2D)           (None, 28, 28, 32)        320       \n",
            "_________________________________________________________________\n",
            "max_pooling2d_6 (MaxPooling2 (None, 14, 14, 32)        0         \n",
            "_________________________________________________________________\n",
            "conv2d_14 (Conv2D)           (None, 14, 14, 64)        18496     \n",
            "_________________________________________________________________\n",
            "max_pooling2d_7 (MaxPooling2 (None, 7, 7, 64)          0         \n",
            "_________________________________________________________________\n",
            "conv2d_15 (Conv2D)           (None, 7, 7, 128)         73856     \n",
            "_________________________________________________________________\n",
            "conv2d_16 (Conv2D)           (None, 7, 7, 128)         147584    \n",
            "_________________________________________________________________\n",
            "up_sampling2d_3 (UpSampling2 (None, 14, 14, 128)       0         \n",
            "_________________________________________________________________\n",
            "conv2d_17 (Conv2D)           (None, 14, 14, 64)        73792     \n",
            "_________________________________________________________________\n",
            "up_sampling2d_4 (UpSampling2 (None, 28, 28, 64)        0         \n",
            "_________________________________________________________________\n",
            "conv2d_18 (Conv2D)           (None, 28, 28, 1)         577       \n",
            "=================================================================\n",
            "Total params: 314,625\n",
            "Trainable params: 314,625\n",
            "Non-trainable params: 0\n",
            "_________________________________________________________________\n"
          ],
          "name": "stdout"
        }
      ]
    },
    {
      "cell_type": "markdown",
      "metadata": {
        "id": "gKJEjAIQ4gc8"
      },
      "source": [
        "Train the model"
      ]
    },
    {
      "cell_type": "code",
      "metadata": {
        "colab": {
          "base_uri": "https://localhost:8080/"
        },
        "id": "J6hFEo_f4i5x",
        "outputId": "f820f9c7-cb0f-48fc-9871-adc7b66295b2"
      },
      "source": [
        "autoencoder_train = autoencoder.fit(train_X, train_ground, batch_size=batch_size,\r\n",
        "                    epochs=epochs, verbose=1, validation_data=(valid_X, valid_ground))"
      ],
      "execution_count": 30,
      "outputs": [
        {
          "output_type": "stream",
          "text": [
            "Epoch 1/50\n",
            "375/375 [==============================] - 359s 953ms/step - loss: 0.0674 - val_loss: 0.0113\n",
            "Epoch 2/50\n",
            "375/375 [==============================] - 357s 951ms/step - loss: 0.0112 - val_loss: 0.0090\n",
            "Epoch 3/50\n",
            "375/375 [==============================] - 360s 961ms/step - loss: 0.0076 - val_loss: 0.0063\n",
            "Epoch 4/50\n",
            "375/375 [==============================] - 359s 958ms/step - loss: 0.0060 - val_loss: 0.0045\n",
            "Epoch 5/50\n",
            "375/375 [==============================] - 360s 959ms/step - loss: 0.0051 - val_loss: 0.0039\n",
            "Epoch 6/50\n",
            "375/375 [==============================] - 359s 957ms/step - loss: 0.0044 - val_loss: 0.0043\n",
            "Epoch 7/50\n",
            "375/375 [==============================] - 360s 959ms/step - loss: 0.0039 - val_loss: 0.0039\n",
            "Epoch 8/50\n",
            "375/375 [==============================] - 362s 966ms/step - loss: 0.0036 - val_loss: 0.0029\n",
            "Epoch 9/50\n",
            "375/375 [==============================] - 359s 956ms/step - loss: 0.0033 - val_loss: 0.0033\n",
            "Epoch 10/50\n",
            "375/375 [==============================] - 361s 964ms/step - loss: 0.0030 - val_loss: 0.0028\n",
            "Epoch 11/50\n",
            "375/375 [==============================] - 359s 958ms/step - loss: 0.0029 - val_loss: 0.0032\n",
            "Epoch 12/50\n",
            "375/375 [==============================] - 358s 955ms/step - loss: 0.0028 - val_loss: 0.0029\n",
            "Epoch 13/50\n",
            "375/375 [==============================] - 360s 959ms/step - loss: 0.0027 - val_loss: 0.0032\n",
            "Epoch 14/50\n",
            "375/375 [==============================] - 361s 964ms/step - loss: 0.0026 - val_loss: 0.0024\n",
            "Epoch 15/50\n",
            "375/375 [==============================] - 360s 959ms/step - loss: 0.0024 - val_loss: 0.0026\n",
            "Epoch 16/50\n",
            "375/375 [==============================] - 359s 958ms/step - loss: 0.0024 - val_loss: 0.0024\n",
            "Epoch 17/50\n",
            "375/375 [==============================] - 362s 966ms/step - loss: 0.0023 - val_loss: 0.0025\n",
            "Epoch 18/50\n",
            "375/375 [==============================] - 361s 963ms/step - loss: 0.0023 - val_loss: 0.0021\n",
            "Epoch 19/50\n",
            "375/375 [==============================] - 361s 964ms/step - loss: 0.0022 - val_loss: 0.0019\n",
            "Epoch 20/50\n",
            "375/375 [==============================] - 363s 968ms/step - loss: 0.0021 - val_loss: 0.0019\n",
            "Epoch 21/50\n",
            "375/375 [==============================] - 361s 963ms/step - loss: 0.0021 - val_loss: 0.0019\n",
            "Epoch 22/50\n",
            "375/375 [==============================] - 364s 970ms/step - loss: 0.0020 - val_loss: 0.0019\n",
            "Epoch 23/50\n",
            "375/375 [==============================] - 364s 970ms/step - loss: 0.0020 - val_loss: 0.0018\n",
            "Epoch 24/50\n",
            "375/375 [==============================] - 362s 967ms/step - loss: 0.0019 - val_loss: 0.0021\n",
            "Epoch 25/50\n",
            "375/375 [==============================] - 364s 972ms/step - loss: 0.0019 - val_loss: 0.0019\n",
            "Epoch 26/50\n",
            "375/375 [==============================] - 362s 967ms/step - loss: 0.0019 - val_loss: 0.0020\n",
            "Epoch 27/50\n",
            "375/375 [==============================] - 362s 966ms/step - loss: 0.0019 - val_loss: 0.0018\n",
            "Epoch 28/50\n",
            "375/375 [==============================] - 364s 969ms/step - loss: 0.0018 - val_loss: 0.0018\n",
            "Epoch 29/50\n",
            "375/375 [==============================] - 362s 965ms/step - loss: 0.0018 - val_loss: 0.0020\n",
            "Epoch 30/50\n",
            "375/375 [==============================] - 364s 971ms/step - loss: 0.0018 - val_loss: 0.0022\n",
            "Epoch 31/50\n",
            "375/375 [==============================] - 364s 972ms/step - loss: 0.0018 - val_loss: 0.0020\n",
            "Epoch 32/50\n",
            "375/375 [==============================] - 364s 972ms/step - loss: 0.0017 - val_loss: 0.0020\n",
            "Epoch 33/50\n",
            "375/375 [==============================] - 367s 979ms/step - loss: 0.0017 - val_loss: 0.0017\n",
            "Epoch 34/50\n",
            "375/375 [==============================] - 363s 968ms/step - loss: 0.0017 - val_loss: 0.0016\n",
            "Epoch 35/50\n",
            "375/375 [==============================] - 364s 970ms/step - loss: 0.0017 - val_loss: 0.0021\n",
            "Epoch 36/50\n",
            "375/375 [==============================] - 364s 971ms/step - loss: 0.0017 - val_loss: 0.0017\n",
            "Epoch 37/50\n",
            "375/375 [==============================] - 364s 972ms/step - loss: 0.0016 - val_loss: 0.0017\n",
            "Epoch 38/50\n",
            "375/375 [==============================] - 367s 978ms/step - loss: 0.0016 - val_loss: 0.0016\n",
            "Epoch 39/50\n",
            "375/375 [==============================] - 363s 969ms/step - loss: 0.0016 - val_loss: 0.0015\n",
            "Epoch 40/50\n",
            "375/375 [==============================] - 364s 970ms/step - loss: 0.0016 - val_loss: 0.0016\n",
            "Epoch 41/50\n",
            "375/375 [==============================] - 364s 972ms/step - loss: 0.0016 - val_loss: 0.0017\n",
            "Epoch 42/50\n",
            "375/375 [==============================] - 365s 975ms/step - loss: 0.0016 - val_loss: 0.0014\n",
            "Epoch 43/50\n",
            "375/375 [==============================] - 365s 974ms/step - loss: 0.0016 - val_loss: 0.0015\n",
            "Epoch 44/50\n",
            "375/375 [==============================] - 365s 972ms/step - loss: 0.0016 - val_loss: 0.0016\n",
            "Epoch 45/50\n",
            "375/375 [==============================] - 364s 971ms/step - loss: 0.0015 - val_loss: 0.0016\n",
            "Epoch 46/50\n",
            "375/375 [==============================] - 365s 973ms/step - loss: 0.0015 - val_loss: 0.0017\n",
            "Epoch 47/50\n",
            "375/375 [==============================] - 366s 976ms/step - loss: 0.0015 - val_loss: 0.0016\n",
            "Epoch 48/50\n",
            "375/375 [==============================] - 363s 967ms/step - loss: 0.0015 - val_loss: 0.0016\n",
            "Epoch 49/50\n",
            "375/375 [==============================] - 362s 966ms/step - loss: 0.0015 - val_loss: 0.0015\n",
            "Epoch 50/50\n",
            "375/375 [==============================] - 359s 958ms/step - loss: 0.0015 - val_loss: 0.0018\n"
          ],
          "name": "stdout"
        }
      ]
    },
    {
      "cell_type": "markdown",
      "metadata": {
        "id": "VAmjXUr5TRNy"
      },
      "source": [
        "Training vs Validation Loss Plot"
      ]
    },
    {
      "cell_type": "code",
      "metadata": {
        "colab": {
          "base_uri": "https://localhost:8080/",
          "height": 281
        },
        "id": "mu5Rx2TmTPIz",
        "outputId": "75a8c9de-89ec-4dd5-a071-9f1deb4738d2"
      },
      "source": [
        "loss = autoencoder_train.history['loss']\r\n",
        "val_loss = autoencoder_train.history['val_loss']\r\n",
        "epochs = range(epochs)\r\n",
        "plt.figure()\r\n",
        "plt.plot(epochs, loss, 'bo', label='Training loss')\r\n",
        "plt.plot(epochs, val_loss, 'b', label='Validation loss')\r\n",
        "plt.title('Training and validation loss')\r\n",
        "plt.legend()\r\n",
        "plt.show()"
      ],
      "execution_count": 31,
      "outputs": [
        {
          "output_type": "display_data",
          "data": {
            "image/png": "[encoded data removed]",
            "text/plain": [
              "<Figure size 432x288 with 1 Axes>"
            ]
          },
          "metadata": {
            "tags": [],
            "needs_background": "light"
          }
        }
      ]
    },
    {
      "cell_type": "markdown",
      "metadata": {
        "id": "H8DOSGBr-S7P"
      },
      "source": [
        "Predicting on test data"
      ]
    },
    {
      "cell_type": "code",
      "metadata": {
        "colab": {
          "base_uri": "https://localhost:8080/"
        },
        "id": "tKpS2cbK-VXM",
        "outputId": "118bf7ef-3fa8-4677-a2cd-e0cc58716065"
      },
      "source": [
        "pred = autoencoder.predict(test_data)\r\n",
        "pred.shape"
      ],
      "execution_count": 32,
      "outputs": [
        {
          "output_type": "execute_result",
          "data": {
            "text/plain": [
              "(10000, 28, 28, 1)"
            ]
          },
          "metadata": {
            "tags": []
          },
          "execution_count": 32
        }
      ]
    },
    {
      "cell_type": "code",
      "metadata": {
        "colab": {
          "base_uri": "https://localhost:8080/",
          "height": 202
        },
        "id": "8O-hbBIj-oFi",
        "outputId": "67177228-a40e-4bc8-bbd4-b6e6b3c4831b"
      },
      "source": [
        "plt.figure(figsize=(20,4))\r\n",
        "print(\"Test Images\")\r\n",
        "for i in range(10):\r\n",
        "  plt.subplot(2, 10, i+1)\r\n",
        "  plt.imshow(test_data[i, ...,0], cmap='gray')\r\n",
        "  curr_lbl = test_labels[i]\r\n",
        "  plt.title(\"(Label: \" + str(label_dict[curr_lbl]) + \")\")\r\n",
        "plt.show()\r\n",
        "plt.figure(figsize=(20,4))\r\n",
        "print(\"Reconstruction of Test Images\")\r\n",
        "for i in range(10):\r\n",
        "  plt.subplot(2, 10, i+1)\r\n",
        "  plt.imshow(pred[i, ..., 0], cmap = 'gray')\r\n",
        "plt.show()"
      ],
      "execution_count": 35,
      "outputs": [
        {
          "output_type": "stream",
          "text": [
            "Test Images\n"
          ],
          "name": "stdout"
        },
        {
          "output_type": "display_data",
          "data": {
            "image/png": "[encoded data removed]",
            "text/plain": [
              "<Figure size 1440x288 with 10 Axes>"
            ]
          },
          "metadata": {
            "tags": [],
            "needs_background": "light"
          }
        },
        {
          "output_type": "stream",
          "text": [
            "Reconstruction of Test Images\n"
          ],
          "name": "stdout"
        },
        {
          "output_type": "display_data",
          "data": {
            "image/png": "[encoded data removed]",
            "text/plain": [
              "<Figure size 1440x288 with 10 Axes>"
            ]
          },
          "metadata": {
            "tags": [],
            "needs_background": "light"
          }
        }
      ]
    }
  ]
}